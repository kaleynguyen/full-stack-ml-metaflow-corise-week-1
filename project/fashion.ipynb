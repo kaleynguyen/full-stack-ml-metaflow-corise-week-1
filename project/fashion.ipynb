{
 "cells": [
  {
   "attachments": {},
   "cell_type": "markdown",
   "metadata": {},
   "source": [
    "# Welcome to Full Stack Machine Learning's Week 1 Project!\n",
    "\n",
    "Welcome to our project on sentiment analysis using a [Women's Ecommerce Clothing Reviews Dataset from Kaggle](https://www.kaggle.com/datasets/nicapotato/womens-ecommerce-clothing-reviews)! As a Data Scientist, you'll often be tasked with building predictive models that help businesses understand their customers' needs and preferences. In this project, our main goal is to understand the importance of creating a baseline model as a starting point for further improvements.\n",
    "\n",
    "To achieve this goal, we'll be using a dataset containing reviews written by customers about women's clothing sold online. The dataset offers a great environment to parse out the text through its multiple dimensions, and because this is real commercial data, it has been anonymized, and references to the company in the review text and body have been replaced with \"retailer\".\n",
    "\n",
    "As part of the project, we'll start by exploring the dataset, performing some basic cleaning, and establishing a baseline model using a simple algorithm. We'll then discuss the importance of this baseline model and how it can be used as a reference point for future improvements.\n",
    "\n",
    "Optionally, we'll also be creating a simple model that performs better than the baseline model. This will give us a better understanding of how machine learning models work and the benefits of using more complex algorithms.\n",
    "\n",
    "We're excited to embark on this project together and look forward to exploring the world of sentiment analysis with you!\n",
    "\n",
    "### Using GitHub\n",
    "To complete the assignment:\n",
    "1. Fill in the TODO sections of this notebook.\n",
    "2. Push the results to your `full-stack-ml-metaflow-corise-week-1` repository.\n",
    "3. Create a link to the repository in Corise."
   ]
  },
  {
   "attachments": {},
   "cell_type": "markdown",
   "metadata": {},
   "source": [
    "## Task 1. EDA"
   ]
  },
  {
   "attachments": {},
   "cell_type": "markdown",
   "metadata": {},
   "source": [
    "Exploratory Data Analysis (EDA) is a critical step in the data science pipeline as it allows us to gain insights and identify patterns within the data. In this section, we will be performing EDA on the Women's Clothing E-Commerce dataset, which contains reviews written by customers. Through this process, we will be looking out for trends, anomalies, and outliers that can help us better understand the data and inform our decision-making in subsequent stages of the project. By performing EDA, we will be able to identify potential issues with the dataset and make necessary corrections before proceeding to the model building phase.\n",
    "\n",
    "Suggestion: Spend 1-2 hours on this section."
   ]
  },
  {
   "attachments": {},
   "cell_type": "markdown",
   "metadata": {},
   "source": [
    "### Import Dependencies\n",
    "You can change these if you wish! \n",
    "These packages are already installed in the `full-stack-metaflow-corise` environment. \n",
    "If you are feeling adventurous, you can install other packages you want in the conda environment too, or even make your own environment from scratch and include with your submission! "
   ]
  },
  {
   "cell_type": "code",
   "execution_count": 20,
   "metadata": {},
   "outputs": [],
   "source": [
    "from collections import Counter\n",
    "import pandas as pd\n",
    "import numpy as np \n",
    "from termcolor import colored\n",
    "import matplotlib.pyplot as plt\n",
    "import seaborn as sns\n",
    "import string\n",
    "import nltk\n",
    "import polars as pl"
   ]
  },
  {
   "attachments": {},
   "cell_type": "markdown",
   "metadata": {},
   "source": [
    "### Configure plots\n",
    "This part is optional styling your plots and cards."
   ]
  },
  {
   "cell_type": "code",
   "execution_count": 21,
   "metadata": {},
   "outputs": [],
   "source": [
    "YELLOW = '#FFBC00'\n",
    "GREEN = '#37795D'\n",
    "PURPLE = '#5460C0'\n",
    "BACKGROUND = '#F4EBE6'\n",
    "colors = [GREEN, PURPLE]\n",
    "custom_params = {\n",
    "    'axes.spines.right': False, 'axes.spines.top': False,\n",
    "    'axes.facecolor':BACKGROUND, 'figure.facecolor': BACKGROUND, \n",
    "    'figure.figsize':(8, 8)\n",
    "}\n",
    "sns_palette = sns.color_palette(colors, len(colors))\n",
    "sns.set_theme(style='ticks', rc=custom_params)"
   ]
  },
  {
   "attachments": {},
   "cell_type": "markdown",
   "metadata": {},
   "source": [
    "### Load the data "
   ]
  },
  {
   "cell_type": "code",
   "execution_count": 22,
   "metadata": {},
   "outputs": [],
   "source": [
    "# TODO: Load the dataset, ensure to use index_col=0 when reading the CSV file. \n",
    "# Hints\n",
    "    # Look in the ../../data directory of this worksapce. \n",
    "    # If you use pandas think about the index_col arg 🧐 \n",
    "df = pl.read_csv('../data/women-clothing.csv')\n",
    "\n",
    "# light data cleaning\n",
    "df.columns = [\"_\".join(name.lower().strip().split()) for name in df.columns]\n",
    "df= df.with_columns(pl.col('review_text').cast(pl.Utf8))\n"
   ]
  },
  {
   "cell_type": "code",
   "execution_count": 23,
   "metadata": {},
   "outputs": [
    {
     "data": {
      "text/plain": [
       "{'': Int64,\n",
       " 'clothing_id': Int64,\n",
       " 'age': Int64,\n",
       " 'title': Utf8,\n",
       " 'review_text': Utf8,\n",
       " 'rating': Int64,\n",
       " 'recommended_ind': Int64,\n",
       " 'positive_feedback_count': Int64,\n",
       " 'division_name': Utf8,\n",
       " 'department_name': Utf8,\n",
       " 'class_name': Utf8}"
      ]
     },
     "execution_count": 23,
     "metadata": {},
     "output_type": "execute_result"
    }
   ],
   "source": [
    "df.schema"
   ]
  },
  {
   "cell_type": "code",
   "execution_count": 24,
   "metadata": {},
   "outputs": [
    {
     "data": {
      "text/html": [
       "<div><style>\n",
       ".dataframe > thead > tr > th,\n",
       ".dataframe > tbody > tr > td {\n",
       "  text-align: right;\n",
       "}\n",
       "</style>\n",
       "<small>shape: (5, 2)</small><table border=\"1\" class=\"dataframe\"><thead><tr><th>rating</th><th>count</th></tr><tr><td>i64</td><td>u32</td></tr></thead><tbody><tr><td>1</td><td>842</td></tr><tr><td>2</td><td>1565</td></tr><tr><td>3</td><td>2871</td></tr><tr><td>4</td><td>5077</td></tr><tr><td>5</td><td>13131</td></tr></tbody></table></div>"
      ],
      "text/plain": [
       "shape: (5, 2)\n",
       "┌────────┬───────┐\n",
       "│ rating ┆ count │\n",
       "│ ---    ┆ ---   │\n",
       "│ i64    ┆ u32   │\n",
       "╞════════╪═══════╡\n",
       "│ 1      ┆ 842   │\n",
       "│ 2      ┆ 1565  │\n",
       "│ 3      ┆ 2871  │\n",
       "│ 4      ┆ 5077  │\n",
       "│ 5      ┆ 13131 │\n",
       "└────────┴───────┘"
      ]
     },
     "execution_count": 24,
     "metadata": {},
     "output_type": "execute_result"
    }
   ],
   "source": [
    "df.groupby(pl.col('rating')).count().sort(pl.col('count'))"
   ]
  },
  {
   "attachments": {},
   "cell_type": "markdown",
   "metadata": {},
   "source": [
    "### Plot the distribution of [1, 5] ratings\n",
    "\n",
    "We will be using the `rating` to create a label on this dataset. We can see that the mean rating is above 4, pretty happy customers!\n",
    "\n",
    "Let's try to visualise the distribution of the label. "
   ]
  },
  {
   "cell_type": "code",
   "execution_count": 25,
   "metadata": {},
   "outputs": [
    {
     "data": {
      "text/plain": [
       "<BarContainer object of 5 artists>"
      ]
     },
     "execution_count": 25,
     "metadata": {},
     "output_type": "execute_result"
    },
    {
     "data": {
      "image/png": "[encoded data removed]",
      "text/plain": [
       "<Figure size 500x500 with 1 Axes>"
      ]
     },
     "metadata": {},
     "output_type": "display_data"
    }
   ],
   "source": [
    "# TODO: Derive the rating_distribution and plot it\n",
    "rating_distribution = df.groupby(pl.col('rating')).count()\n",
    "fig, ax = plt.subplots(1,1,figsize=(5,5))\n",
    "# You can swap the color used with the defined constants at the top of the notebook\n",
    "ax.bar(x=rating_distribution.select(pl.col('rating')).to_series().to_list(),\\\n",
    "     height=rating_distribution.select(pl.col('count')).to_series().to_list(), color=GREEN)"
   ]
  },
  {
   "cell_type": "code",
   "execution_count": 28,
   "metadata": {},
   "outputs": [],
   "source": [
    "df = df.filter(pl.col('review_text').is_not_null())\n",
    "df = df.with_columns(pl.when(pl.col('rating') > 4).then(pl.lit(1)).otherwise(pl.lit(0)).alias('label').cast(pl.Int8))\n",
    "assert df.select(pl.col('rating')).shape == df.select(pl.col('review_text')).shape\n",
    "assert df.select(pl.col('review_text').is_null()).sum().item() == 0\n"
   ]
  },
  {
   "attachments": {},
   "cell_type": "markdown",
   "metadata": {},
   "source": [
    "#### What percentage of points does your algorithm label with positive sentiment?"
   ]
  },
  {
   "cell_type": "code",
   "execution_count": 29,
   "metadata": {},
   "outputs": [
    {
     "name": "stdout",
     "output_type": "stream",
     "text": [
      "55.386% of the labels have positive sentiment.\n"
     ]
    }
   ],
   "source": [
    "labels = df.select(pl.col('label')).to_series()\n",
    "reviews = df.select(pl.col('review_text')).to_series()\n",
    "pct_positive_sentiment = labels.sum() / labels.shape[0]\n",
    "print(f\"{round(100*pct_positive_sentiment,3)}% of the labels have positive sentiment.\")"
   ]
  },
  {
   "attachments": {},
   "cell_type": "markdown",
   "metadata": {},
   "source": [
    "### Let us try to visualise the data that we just labeled depending on the rating. \n",
    "\n",
    "In a real world project, iterating at this point is crucial. You need to look through the way your data is labeled, and ensure it is aligned with your intuitive understanding and objectives of the algorithm. There are also automated tools to aid your label cleaning operations, such as [Cleanlab](https://github.com/cleanlab/cleanlab).  "
   ]
  },
  {
   "cell_type": "code",
   "execution_count": 30,
   "metadata": {},
   "outputs": [
    {
     "name": "stdout",
     "output_type": "stream",
     "text": [
      "\u001b[31mDefinitely size up...possibly two sizes. i can often wear an xs and the s is skin tight on me. other than that, it's a nice neutral piece.\u001b[0m\n",
      "\n",
      "\u001b[32mI just bought this at the store. i simply couldn't resist! it is very light and comfortable and could easily be dressed up or dressed down, sandals and a crossbody bag for exploring the city, strappy healed sandals and some flashy jewelry for a garden party or day event, slip on booties and a cardigan for the evening. can't wait to rock it. in terms of sizing, i am 5'5 150 with 36dd bust and some hips and booty. usually i am a size 6-8/m in dresses and pants but in true retailer style, i ended up\u001b[0m\n",
      "\n",
      "\u001b[31mSuper soft, super cute but too short for a dress, too long and too overwhelming for a shirt, and didn't like the look with leggings at all so sadly i'm returning. love the colors, feel and style but no way will sizing up or down fit in a way that was functional...having said that..fits tts i guess.\u001b[0m\n",
      "\n",
      "\u001b[32mLove the skirt, colors are nice, fabric is thick enough to go to fall, but not too thick for summer (ti is short, so has room). the colors are somewhat \"brighter\" in person, but not summer bright, more fall bright, not sure htat makes sense). love the flower pattern, it is pretty but strong at the same time.\n",
      "\n",
      "now on to fit: the waist is the small part. my usual 0 was snug on the waist, but the skirt was perfect everywhere else. not sure about sizing up yet, as it may flare out too much, will g\u001b[0m\n",
      "\n",
      "\u001b[31mI wanted to love this dress. the cut, fit and color are adorable. unfortunately the fabric is super thin. due to the material type it can be clingy in a manner that requires the anti-static spray your mom used to use in the 80s. i was on the fence of keeping it, but if there is so much as a wrinkle in your panty-line the whole world will see it. i would hate to have to wear a slip with this due to static issue. i am most likely going to return it; even at 15% off, it is over-priced for the cheap\u001b[0m\n",
      "\n",
      "\u001b[32mIt's a perfect maternity dress but i love that i will still be able to wear it with a belt once the baby comes.\u001b[0m\n",
      "\n",
      "\u001b[31mThe blouse is lovely - but after washing it exactly as specified, it shrank more than a full size. this is an expensive hand-me-down for my daughter...\u001b[0m\n",
      "\n",
      "\u001b[32mTo be honest, i bought this sweater as an add-on so i could get free shipping; however, it's the only piece i actually kept from the order! this sweatshirt is warm (fleece-lined) and just the right amount of billow. but the best part is the subtle lavender color; when i ordered it, i didn't even realize i ordered lavender (again, i wasn't paying much attention to this piece!), but the color and texture are so soft...definitely a must buy! for reference, i am 5'3, 110 pounds and the xs (my usual\u001b[0m\n",
      "\n",
      "\u001b[31mWhen i first tried it on, i was worried it would add 10-15 lbs to my hourglass frame, but if worn correctly, it actually has a flattering, slimming effect. i recommend wearing it open (like in the photo) with the same type of outfit underneath...looks very chic! or, to give yourself a defined waist, use the provided ribbon belt tied to the side or use your own large, statement belt. also looks great with vintage sunglasses! the fabric quality can't be beat. it's nice and heavy to the touch. i ca\u001b[0m\n",
      "\n",
      "\u001b[32mI love this dress. the colors are eye catching. if flows nicely.\u001b[0m\n",
      "\n"
     ]
    }
   ],
   "source": [
    "# params\n",
    "positive_color = 'green'\n",
    "negative_color = 'red'\n",
    "N = 10\n",
    "\n",
    "# fetch subset of data\n",
    "sub_labels = labels.sample(10, with_replacement=False, seed = 2)\n",
    "sub_reviews = reviews.sample(10, with_replacement=False, seed = 2)\n",
    "\n",
    "\n",
    "# print each sample and color the text by sentiment\n",
    "for label, review in zip(sub_labels, sub_reviews):\n",
    "    color = negative_color if label == 0 else positive_color\n",
    "    print(colored(review, color), end='\\n\\n')\n",
    "\n",
    "# in a real world project, iterating at this point is crucial.\n",
    "# you need to look through the way your data is labeled, and ensure it is aligned with your intuitive understanding and objectives of the algorithm.\n",
    "# there are also automated tools to aid your label cleaning operations, such as: https://github.com/cleanlab/cleanlab"
   ]
  },
  {
   "attachments": {},
   "cell_type": "markdown",
   "metadata": {},
   "source": [
    "### What do you think about the text and their corresponding labels? \n",
    "- Do you think the labels fit the text? Yes\n",
    "- If not what do you think we can do to fix it? Some have positive comments in the beginning but adding some context seems to be a negative comment. Can try to label after combining both the rating and likelihood of being positive / negative. "
   ]
  },
  {
   "attachments": {},
   "cell_type": "markdown",
   "metadata": {},
   "source": [
    "### Filtering Stop Words\n",
    "In this part we will be filtering the stop words from the reviews. We remove stopwords in NLP datasets because there are words that do not carry much meaning on their own, and their presence can add noise to the analysis. These words are common and frequently occurring words such as \"a\", \"an\", \"the\", \"of\", and \"and\". \n",
    "\n",
    "Removing stopwords can improve the accuracy and efficiency of natural language processing tasks, such as sentiment analysis or topic modeling, by reducing the dimensionality of the data and increasing the signal-to-noise ratio. By removing these uninformative words, the resulting dataset may contain more meaningful information that can be used for analysis."
   ]
  },
  {
   "cell_type": "code",
   "execution_count": 31,
   "metadata": {},
   "outputs": [
    {
     "name": "stderr",
     "output_type": "stream",
     "text": [
      "[nltk_data] Downloading package stopwords to /home/gitpod/nltk_data...\n",
      "[nltk_data]   Unzipping corpora/stopwords.zip.\n"
     ]
    }
   ],
   "source": [
    "nltk.download('stopwords')\n",
    "stopwords = list(nltk.corpus.stopwords.words(\"english\"))\n",
    "non_stopwords = []\n",
    "for review in reviews: \n",
    "    for word in review.split():\n",
    "        word = word.translate(str.maketrans('', '', string.punctuation))\n",
    "        if word == '':\n",
    "            continue\n",
    "        if not word.lower() in stopwords:\n",
    "            non_stopwords.append(word)"
   ]
  },
  {
   "attachments": {},
   "cell_type": "markdown",
   "metadata": {},
   "source": [
    "### Find the K most common words"
   ]
  },
  {
   "cell_type": "code",
   "execution_count": 32,
   "metadata": {},
   "outputs": [],
   "source": [
    "K = 25\n",
    "words, counts = zip(*Counter(non_stopwords).most_common(K))"
   ]
  },
  {
   "cell_type": "code",
   "execution_count": 33,
   "metadata": {},
   "outputs": [
    {
     "data": {
      "image/png": "[encoded data removed]",
      "text/plain": [
       "<Figure size 1200x500 with 1 Axes>"
      ]
     },
     "metadata": {},
     "output_type": "display_data"
    }
   ],
   "source": [
    "fig,ax = plt.subplots(1,1,figsize=(12,5))\n",
    "plt.xticks(rotation = 55)\n",
    "ax.bar(x=words, height=counts, color=GREEN);"
   ]
  },
  {
   "attachments": {},
   "cell_type": "markdown",
   "metadata": {},
   "source": [
    "### What do the other features in the data look like?"
   ]
  },
  {
   "cell_type": "code",
   "execution_count": 34,
   "metadata": {},
   "outputs": [
    {
     "ename": "ModuleNotFoundError",
     "evalue": "No module named 'pyarrow'",
     "output_type": "error",
     "traceback": [
      "\u001b[0;31m---------------------------------------------------------------------------\u001b[0m",
      "\u001b[0;31mModuleNotFoundError\u001b[0m                       Traceback (most recent call last)",
      "Cell \u001b[0;32mIn[34], line 1\u001b[0m\n\u001b[0;32m----> 1\u001b[0m sns\u001b[39m.\u001b[39mpairplot(data\u001b[39m=\u001b[39mdf\u001b[39m.\u001b[39;49mto_pandas(), hue\u001b[39m=\u001b[39m\u001b[39m'\u001b[39m\u001b[39mlabel\u001b[39m\u001b[39m'\u001b[39m, corner\u001b[39m=\u001b[39m\u001b[39mTrue\u001b[39;00m, palette\u001b[39m=\u001b[39msns_palette);\n",
      "File \u001b[0;32m~/.pyenv/versions/3.11.1/lib/python3.11/site-packages/polars/dataframe/frame.py:2134\u001b[0m, in \u001b[0;36mDataFrame.to_pandas\u001b[0;34m(self, use_pyarrow_extension_array, *args, **kwargs)\u001b[0m\n\u001b[1;32m   2124\u001b[0m     \u001b[39mif\u001b[39;00m \u001b[39mnot\u001b[39;00m _PYARROW_AVAILABLE \u001b[39mor\u001b[39;00m parse_version(pa\u001b[39m.\u001b[39m__version__) \u001b[39m<\u001b[39m parse_version(\n\u001b[1;32m   2125\u001b[0m         \u001b[39m\"\u001b[39m\u001b[39m8\u001b[39m\u001b[39m\"\u001b[39m\n\u001b[1;32m   2126\u001b[0m     ):\n\u001b[1;32m   2127\u001b[0m         \u001b[39mraise\u001b[39;00m \u001b[39mModuleNotFoundError\u001b[39;00m(\n\u001b[1;32m   2128\u001b[0m             \u001b[39mf\u001b[39m\u001b[39m'\u001b[39m\u001b[39mpyarrow>=8.0.0 is required for `to_pandas(\u001b[39m\u001b[39m\"\u001b[39m\u001b[39muse_pyarrow_extension_array=True\u001b[39m\u001b[39m\"\u001b[39m\u001b[39m)`\u001b[39m\u001b[39m'\u001b[39m\n\u001b[1;32m   2129\u001b[0m             \u001b[39mf\u001b[39m\u001b[39m\"\u001b[39m\u001b[39m, found pyarrow \u001b[39m\u001b[39m{\u001b[39;00mpa\u001b[39m.\u001b[39m__version__\u001b[39m}\u001b[39;00m\u001b[39m.\u001b[39m\u001b[39m\"\u001b[39m\n\u001b[1;32m   2130\u001b[0m             \u001b[39mif\u001b[39;00m _PYARROW_AVAILABLE\n\u001b[1;32m   2131\u001b[0m             \u001b[39melse\u001b[39;00m \u001b[39m\"\u001b[39m\u001b[39m.\u001b[39m\u001b[39m\"\u001b[39m\n\u001b[1;32m   2132\u001b[0m         )\n\u001b[0;32m-> 2134\u001b[0m record_batches \u001b[39m=\u001b[39m \u001b[39mself\u001b[39;49m\u001b[39m.\u001b[39;49m_df\u001b[39m.\u001b[39;49mto_pandas()\n\u001b[1;32m   2135\u001b[0m tbl \u001b[39m=\u001b[39m pa\u001b[39m.\u001b[39mTable\u001b[39m.\u001b[39mfrom_batches(record_batches)\n\u001b[1;32m   2136\u001b[0m \u001b[39mif\u001b[39;00m use_pyarrow_extension_array:\n",
      "\u001b[0;31mModuleNotFoundError\u001b[0m: No module named 'pyarrow'"
     ]
    }
   ],
   "source": [
    "sns.pairplot(data=df.to_pandas(), hue='label', corner=True, palette=sns_palette);"
   ]
  },
  {
   "attachments": {},
   "cell_type": "markdown",
   "metadata": {},
   "source": [
    "## Task 2: Scoping Out a Machine Learning Project\n",
    "\n",
    "Welcome to the Project Manager task for the sentiment analysis classifier project. As a Data Scientist, you know that a successful project requires not only technical skills but also effective project management. In this task, you will take on the role of a Data Scientist tasked with leading the development of a sentiment analysis classifier. You will be responsible for planning and executing the project, ensuring that it aligns with business goals, stays within scope, and delivers value to stakeholders.\n",
    "\n",
    "To do this, you will create a one-page document that outlines the business value of the project, its scope, how to measure and monitor success, and when to quit. This task is designed to challenge you to think holistically about the project, and to consider not only the technical details but also the broader context in which the project is situated. Good luck!\n",
    "\n",
    "Suggestion: Spend 1-2 hours on this section."
   ]
  },
  {
   "attachments": {},
   "cell_type": "markdown",
   "metadata": {},
   "source": [
    "Fill in the section below with your answers!\n",
    "\n",
    "### 1. The business value\n",
    "* Improve customer satisfaction, which potentially leads to higher revenue\n",
    "* Fast response to negative reviews and filter them out to figure the root causes / issues with the products.\n",
    "\n",
    "### 2. The scope\n",
    "* Sentiment analysis solely based on the postive reviews that are greater than 4 and negative reviews that are equal to or less than 4\n",
    "* It does not include any steps priors to where the customers drop off or shipping / delivery related problems. \n",
    "\n",
    "### 3. How to measure success\n",
    "* Have a weekly / monthly baseline sentiment analysis and compare it within the next couple months \n",
    "* Assign negative reviews with high likelihood to a human anotator and extract information => report it to the team. \n",
    "\n",
    "### 4. How to monitor success\n",
    "* Improvement in ROC-AUC, Aaccuracy, PR-AUC, recall, precision compared to base line models or the models of the previous week / previous month\n",
    "* Improvement in weekly / monthly profits after subtracting the costs. "
   ]
  },
  {
   "attachments": {},
   "cell_type": "markdown",
   "metadata": {},
   "source": [
    "### Great job completing Task 2! \n",
    "\n",
    "Why do you think it is important to create a one-page document prior to beginning work on the project? "
   ]
  },
  {
   "attachments": {},
   "cell_type": "markdown",
   "metadata": {},
   "source": [
    "## Task 3: Baseline Machine Learning Flow\n",
    "\n",
    "A basic baseline in a machine learning model is the simplest possible model that can be used to make predictions on the dataset. The basic baseline can be as simple as predicting the most frequent class for a classification problem or the mean value of the target variable for a regression problem. The purpose of establishing a baseline is to provide a benchmark for evaluating the performance of more complex models. A model that cannot outperform the basic baseline is considered to be useless and should not be used in practice.\n",
    "\n",
    "Here you will need to convert the code from above that was used to perform preprocessing and EDA on the dataset and create a Flow to run in order to train a baseline model. \n",
    "\n",
    "**NOTE:** It is important to realise that this is being run as a separate file and therefore re-using functions from above will not work. \n",
    "\n",
    "Suggestion: Spend 2-4 hours on this section. Rememeber that the more organized your earlier work is, the easier it is to write flows!"
   ]
  },
  {
   "cell_type": "code",
   "execution_count": 8,
   "metadata": {},
   "outputs": [
    {
     "name": "stdout",
     "output_type": "stream",
     "text": [
      "Overwriting baseline_flow.py\n"
     ]
    }
   ],
   "source": [
    "%%writefile baseline_flow.py \n",
    "from metaflow import FlowSpec, step, Flow, current, Parameter, IncludeFile, card, current\n",
    "from metaflow.cards import Table, Markdown, Artifact\n",
    "\n",
    "\n",
    "class BaselineNLPFlow(FlowSpec):\n",
    "\n",
    "    # We can define input parameters to a Flow using Parameters\n",
    "    # More info can be found here https://docs.metaflow.org/metaflow/basics#how-to-define-parameters-for-flows\n",
    "    split_size = Parameter('split-sz', default=0.2)\n",
    "    # In order to use a file as an input parameter for a particular Flow we can use IncludeFile\n",
    "    # More information can be found here https://docs.metaflow.org/api/flowspec#includefile\n",
    "    data = IncludeFile('data', default='../data/women-clothing.csv')\n",
    "\n",
    "    @step\n",
    "    def start(self):\n",
    "\n",
    "        # Step-level dependencies are loaded within a Step, instead of loading them \n",
    "        # from the top of the file. This helps us isolate dependencies in a tight scope.\n",
    "        import pandas as pd\n",
    "        import io \n",
    "        from sklearn.model_selection import train_test_split\n",
    "        import polars as pl \n",
    "        \n",
    "        # load dataset packaged with the flow.\n",
    "        # this technique is convenient when working with small datasets that need to move to remove tasks.\n",
    "        df = pl.read_csv('../data/women-clothing.csv')\n",
    "\n",
    "        # filter down to reviews and labels \n",
    "        df.columns = [\"_\".join(name.lower().strip().split()) for name in df.columns]\n",
    "        df = df.with_columns(pl.col('review_text').cast(pl.Utf8).alias('reviews'))\n",
    "        df = df.filter(pl.col('review_text').is_not_null())\n",
    "        df = df.with_columns(pl.col('rating').apply(lambda score: 1 if score > 4 else 0).alias('labels'))\n",
    "        self.df = df\n",
    "\n",
    "\n",
    "        # split the data 80/20, or by using the flow's split-sz CLI argument\n",
    "        _df = pd.DataFrame({'review': df.select(pl.col('reviews')).to_series().to_list(), \\\n",
    "                            'label': df.select(pl.col('labels')).to_series().to_list()})\n",
    "        self.traindf, self.valdf = train_test_split(_df, test_size=self.split_size)\n",
    "        print(f'num of rows in train set: {self.traindf.shape[0]}')\n",
    "        print(f'num of rows in validation set: {self.valdf.shape[0]}')\n",
    "\n",
    "        self.next(self.baseline)\n",
    "\n",
    "    @step\n",
    "    def baseline(self):\n",
    "        \"Compute the baseline\"\n",
    "        \n",
    "        ### TODO: Fit and score a baseline model on the data, log the acc and rocauc as artifacts.\n",
    "        import gensim\n",
    "\n",
    "        self.base_acc = 0.5\n",
    "        self.base_rocauc = 0.5\n",
    "\n",
    "        self.next(self.end)\n",
    "        \n",
    "    @card(type='corise') # TODO: after you get the flow working, chain link on the left side nav to open your card!\n",
    "    @step\n",
    "    def end(self):\n",
    "\n",
    "        msg = 'Baseline Accuracy: {}\\nBaseline AUC: {}'\n",
    "        print(msg.format(\n",
    "            round(self.base_acc,3), round(self.base_rocauc,3)\n",
    "        ))\n",
    "\n",
    "        current.card.append(Markdown(\"# Womens Clothing Review Results\"))\n",
    "        current.card.append(Markdown(\"## Overall Accuracy\"))\n",
    "        current.card.append(Artifact(self.base_acc))\n",
    "\n",
    "        current.card.append(Markdown(\"## Examples of False Positives\"))\n",
    "        # TODO: compute the false positive predictions where the baseline is 1 and the valdf label is 0. \n",
    "        # TODO: display the false_positives dataframe using metaflow.cards\n",
    "        # Documentation: https://docs.metaflow.org/api/cards#table\n",
    "        \n",
    "        current.card.append(Markdown(\"## Examples of False Negatives\"))\n",
    "        # TODO: compute the false positive predictions where the baseline is 0 and the valdf label is 1. \n",
    "        # TODO: display the false_negatives dataframe using metaflow.cards\n",
    "\n",
    "if __name__ == '__main__':\n",
    "    BaselineNLPFlow()"
   ]
  },
  {
   "cell_type": "code",
   "execution_count": 9,
   "metadata": {},
   "outputs": [
    {
     "name": "stdout",
     "output_type": "stream",
     "text": [
      "\u001b[35m\u001b[1mMetaflow 2.8.6\u001b[0m\u001b[35m\u001b[22m executing \u001b[0m\u001b[31m\u001b[1mBaselineNLPFlow\u001b[0m\u001b[35m\u001b[22m\u001b[0m\u001b[35m\u001b[22m for \u001b[0m\u001b[31m\u001b[1muser:gitpod\u001b[0m\u001b[35m\u001b[22m\u001b[K\u001b[0m\u001b[35m\u001b[22m\u001b[0m\n",
      "\u001b[35m\u001b[22mValidating your flow...\u001b[K\u001b[0m\u001b[35m\u001b[22m\u001b[0m\n",
      "\u001b[32m\u001b[1m    The graph looks good!\u001b[K\u001b[0m\u001b[32m\u001b[1m\u001b[0m\n",
      "\u001b[35m\u001b[22mRunning pylint...\u001b[K\u001b[0m\u001b[35m\u001b[22m\u001b[0m\n",
      "\u001b[32m\u001b[1m    Pylint is happy!\u001b[K\u001b[0m\u001b[32m\u001b[1m\u001b[0m\n",
      "\u001b[22mIncluding file ../data/women-clothing.csv of size 8MB \u001b[K\u001b[0m\u001b[22m\u001b[0m\n",
      "\u001b[35m2023-05-15 00:48:28.366 \u001b[0m\u001b[1mWorkflow starting (run-id 1684111708155523):\u001b[0m\n",
      "\u001b[35m2023-05-15 00:48:28.368 \u001b[0m\u001b[32m[1684111708155523/start/1 (pid 2091)] \u001b[0m\u001b[1mTask is starting.\u001b[0m\n",
      "\u001b[35m2023-05-15 00:48:29.412 \u001b[0m\u001b[32m[1684111708155523/start/1 (pid 2091)] \u001b[0m\u001b[22mnum of rows in train set: 18112\u001b[0m\n",
      "\u001b[35m2023-05-15 00:48:30.206 \u001b[0m\u001b[32m[1684111708155523/start/1 (pid 2091)] \u001b[0m\u001b[22mnum of rows in validation set: 4529\u001b[0m\n",
      "\u001b[35m2023-05-15 00:48:30.208 \u001b[0m\u001b[32m[1684111708155523/start/1 (pid 2091)] \u001b[0m\u001b[1mTask finished successfully.\u001b[0m\n",
      "\u001b[35m2023-05-15 00:48:30.211 \u001b[0m\u001b[32m[1684111708155523/baseline/2 (pid 2140)] \u001b[0m\u001b[1mTask is starting.\u001b[0m\n",
      "\u001b[35m2023-05-15 00:48:31.190 \u001b[0m\u001b[32m[1684111708155523/baseline/2 (pid 2140)] \u001b[0m\u001b[1mTask finished successfully.\u001b[0m\n",
      "\u001b[35m2023-05-15 00:48:31.193 \u001b[0m\u001b[32m[1684111708155523/end/3 (pid 2173)] \u001b[0m\u001b[1mTask is starting.\u001b[0m\n",
      "\u001b[35m2023-05-15 00:48:31.505 \u001b[0m\u001b[32m[1684111708155523/end/3 (pid 2173)] \u001b[0m\u001b[22mBaseline Accuracy: 0.5\u001b[0m\n",
      "\u001b[35m2023-05-15 00:48:31.905 \u001b[0m\u001b[32m[1684111708155523/end/3 (pid 2173)] \u001b[0m\u001b[22mBaseline AUC: 0.5\u001b[0m\n",
      "\u001b[35m2023-05-15 00:48:31.905 \u001b[0m\u001b[32m[1684111708155523/end/3 (pid 2173)] \u001b[0m\u001b[22m[@card WARNING] Card of type `corise` doesn't exist. Component will not be appended and `current.card.append` will not work for any call during this runtime execution. Please use a card `type` which exits.\u001b[0m\n",
      "\u001b[35m2023-05-15 00:48:31.906 \u001b[0m\u001b[32m[1684111708155523/end/3 (pid 2173)] \u001b[0m\u001b[1mTask finished successfully.\u001b[0m\n",
      "\u001b[35m2023-05-15 00:48:31.906 \u001b[0m\u001b[1mDone!\u001b[0m\n"
     ]
    }
   ],
   "source": [
    "! python baseline_flow.py run"
   ]
  },
  {
   "attachments": {},
   "cell_type": "markdown",
   "metadata": {},
   "source": [
    "### Great job completing Task 3!\n",
    "\n",
    "The project for Week 1 is completed but you are free to try out Task 4 below if you have the time to do so! Remember that completing Task 4 is not a requirement and completely optional. So far we have got you already building basic Machine Learning Pipelines uing Metaflow, what do you think about it so far?"
   ]
  },
  {
   "attachments": {},
   "cell_type": "markdown",
   "metadata": {},
   "source": [
    "## Task 4: A Good First Machine Learning Model Flow(OPTIONAL)\n",
    "### Great now that we have established a baseline score for our dataset, let's try to create an actual model for this. \n",
    "\n",
    "You are free to experiment and try to get a very high score in terms of model metrics such as Accuracy/AUC but bear in-mind that usually in the real-world we have to prioritise quick iterations in order to gather quick feedback. Its important to also think about how you will be serving the model as well, more complex DNN will require GPU's in order to perform inference whereas simpler models will work fine on CPU's. \n",
    "\n",
    "1. What model do you think would do a good enough job to get the ball rolling?\n",
    "2. Try creating a `GoodFirstModelNLPFlow` Flow. \n",
    "3. Can you verify that the `GoodFirstModelNLPFlow` is indeed better than the `BaselineNLPFlow`? Metaflow has a Client API which you can use to assert that this more complex model is indeed better. You can refer to the documentation [here](https://docs.metaflow.org/metaflow/client). \n",
    "4. Did your `GoodFirstModelNLPFlow` do better than the `BaselineNLPFlow`? If yes, why do you think so? If not, what do you think was the reason?\n",
    "5. Why do you think it is important to prioritise quick iterations when working on an ML project?"
   ]
  }
 ],
 "metadata": {
  "kernelspec": {
   "display_name": "full-stack-metaflow",
   "language": "python",
   "name": "python3"
  },
  "language_info": {
   "codemirror_mode": {
    "name": "ipython",
    "version": 3
   },
   "file_extension": ".py",
   "mimetype": "text/x-python",
   "name": "python",
   "nbconvert_exporter": "python",
   "pygments_lexer": "ipython3",
   "version": "3.11.1"
  },
  "orig_nbformat": 4
 },
 "nbformat": 4,
 "nbformat_minor": 2
}
